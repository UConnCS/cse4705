{
 "cells": [
  {
   "cell_type": "markdown",
   "id": "a07824ad",
   "metadata": {
    "deletable": false,
    "editable": false
   },
   "source": [
    "## CSE 4705: Assignment 02 - Arad to Bucharest - BFS, DFS, UCS, GBFS, A* \n"
   ]
  },
  {
   "cell_type": "markdown",
   "id": "f723f262",
   "metadata": {
    "deletable": false
   },
   "source": [
    "## Problem 1\n",
    "[100] Write a routine that solves the problem of finds a travel path of cities from from Arad to Bucharest in Romania, as discussed in class. Do this using each of the following approaches (points shown in brackets):\n",
    "\n",
    "1. [15] Breadth First Search (BFS)\n",
    "2. [10] Depth First Search (DFS)\n",
    "3. [25] Uniform Cost Search (UCS)\n",
    "4. [25] Greedy Best First Search (GBFS)\n",
    "5. [25] A*\n",
    "\n",
    "\n",
    "You will use the map from Lecture 03 - Informed Search which shows the major cities in Romania and the distances between them for those cities that are directly connected.  Also, you will use the straight-line-distances shown in the adjacent table for your heuristic function, $h(n)$ for GBFS and A*.  A screenshot of the relevant slide is given below.  Data structures that store this information, romania_map and sld_to_bucharest, have been provided so you can access and apply this data in your algorithm implementations.  Details of these data structures are given below.\n",
    "\n",
    "<img src=\"images/romania_cities.png\" width=\"800\" height=\"600\">\n",
    "\n",
    "### Output for Each Routine\n",
    "\n",
    "Each of your routines should return an output or set of outputs that clearly indicates the following:\n",
    "\n",
    "1. The sequence of cities from Arad to Bucharest.  (Make sure the cities, Arad and Bucharest are explicitly listed as the first and last cities in your output.)  One suggestion is to return this output in the form of a list.\n",
    "2. Cost to travel to each city from its predecessor.  \n",
    "3. Total cost for the path.  \n",
    "\n",
    "In the case of A* and Uniform Cost Search, your routines should return the *cheapest path*.  However, that will not necessarily be the case for BFS, DFS, or GBFS.  (Why not?)"
   ]
  },
  {
   "cell_type": "markdown",
   "id": "7780765b",
   "metadata": {
    "deletable": false,
    "editable": false
   },
   "source": [
    "### Romania Graph\n",
    "\n",
    "You will use the data structure stored in the romania_map, assigned below to implement the search across the various cities to find a path from Arad to Bucharest.\n",
    "\n",
    "Some details about romania_map:\n",
    "- A dictionary of dictionaries \n",
    "- The outer dictionary is as follows: each key is a city and the value for that city is a nested dictionary of cities to which the said city is directly connected.\n",
    "- The nested dictionary contains the cities to which the parent key is directly connected (keys) and the corresponding distances from the parent city to those respective cities (values).\n",
    "- For example, for the city Oradea, we have a key in the outer dictionary (Oradea), and the associated value is a dictionary containing the Zerind and Sibiu as keys, where for each of these the values are the distances from Oradea to these respective cities.\n",
    "\n"
   ]
  },
  {
   "cell_type": "code",
   "execution_count": 220,
   "id": "9c5f305a",
   "metadata": {
    "deletable": false,
    "editable": false
   },
   "outputs": [],
   "source": [
    "romania_map = {\n",
    "    \"Oradea\": {\"Zerind\": 71, \"Sibiu\": 151},\n",
    "    \"Zerind\": {\"Oradea\": 71, \"Arad\": 75},\n",
    "    \"Arad\": {\"Zerind\": 75, \"Sibiu\": 140, \"Timisoara\": 118},\n",
    "    \"Timisoara\": {\"Arad\": 118, \"Lugoj\": 111},\n",
    "    \"Lugoj\": {\"Timisoara\": 111, \"Mehadia\": 70},\n",
    "    \"Mehadia\": {\"Lugoj\": 70, \"Dobreta\": 75},\n",
    "    \"Dobreta\": {\"Mehadia\": 75, \"Craiova\": 120},\n",
    "    \"Sibiu\": {\"Oradea\": 151, \"Fagaras\": 99, \"Rimnicu Vilcea\": 80, \"Arad\": 140},\n",
    "    \"Rimnicu Vilcea\": {\"Sibiu\": 80, \"Pitesti\": 97, \"Craiova\": 146},\n",
    "    \"Craiova\": {\"Rimnicu Vilcea\": 146, \"Pitesti\": 138, \"Dobreta\": 120},\n",
    "    \"Fagaras\": {\"Sibiu\": 99, \"Bucharest\": 211},\n",
    "    \"Pitesti\": {\"Rimnicu Vilcea\": 97, \"Bucharest\": 101, \"Craiova\": 138},\n",
    "    \"Neamt\": {\"Iasi\": 87},\n",
    "    \"Giurgiu\": {\"Bucharest\": 90},\n",
    "    \"Bucharest\": {\"Pitesti\": 101, \"Fagaras\": 211, \"Urziceni\": 85, \"Giurgiu\": 90},\n",
    "    \"Iasi\": {\"Neamt\": 87, \"Vaslui\": 92},\n",
    "    \"Urziceni\": {\"Bucharest\": 85, \"Vaslui\": 142, \"Hirsova\": 98},\n",
    "    \"Vaslui\": {\"Iasi\": 92, \"Urziceni\": 142},\n",
    "    \"Hirsova\": {\"Urziceni\": 98, \"Eforie\": 86},\n",
    "    \"Eforie\": {\"Hirsova\": 86},\n",
    "}"
   ]
  },
  {
   "cell_type": "markdown",
   "id": "0042909e",
   "metadata": {
    "deletable": false,
    "editable": false
   },
   "source": [
    "### Heuristic Function Data - Straight-Line Distances to Bucharest\n",
    "\n",
    "You will use the dictionary below as your resource for retrieving straight-line distance data for implementing the GBFS and A* algorithms."
   ]
  },
  {
   "cell_type": "code",
   "execution_count": 221,
   "id": "aaf76cda",
   "metadata": {
    "deletable": false,
    "editable": false
   },
   "outputs": [],
   "source": [
    "sld_to_Bucharest = {\n",
    "    \"Arad\": 366,\n",
    "    \"Bucharest\": 0,\n",
    "    \"Craiova\": 160,\n",
    "    \"Dobreta\": 242,\n",
    "    \"Eforie\": 161,\n",
    "    \"Fagaras\": 176,\n",
    "    \"Giurgiu\": 77,\n",
    "    \"Hirsova\": 151,\n",
    "    \"Iasi\": 226,\n",
    "    \"Lugoj\": 244,\n",
    "    \"Mehadia\": 241,\n",
    "    \"Neamt\": 234,\n",
    "    \"Oradea\": 380,\n",
    "    \"Pitesti\": 100,\n",
    "    \"Rimnicu Vilcea\": 193,\n",
    "    \"Sibiu\": 253,\n",
    "    \"Timisoara\": 329,\n",
    "    \"Urziceni\": 80,\n",
    "    \"Vaslui\": 199,\n",
    "    \"Zerind\": 374,\n",
    "}"
   ]
  },
  {
   "cell_type": "code",
   "execution_count": 222,
   "id": "f1d7812e",
   "metadata": {},
   "outputs": [],
   "source": [
    "from collections import deque\n",
    "\n",
    "# This function will return the pop function for the given type of structure.\n",
    "def get_pop_function(givenType, struct):\n",
    "    return struct.popleft \\\n",
    "        if givenType == deque \\\n",
    "        else struct.pop\n",
    "\n",
    "'''\n",
    "Parameterized function which can model either BFS/DFS depending on the type\n",
    "of structure provided (i.e. deque for BFS, list (as stack) for DFS).\n",
    "'''\n",
    "def graph_search(graph, struct, start, goal):\n",
    "    # Setup the initiate state and visited nodes set.\n",
    "    visited = set()\n",
    "    initial_state = (start, [start])\n",
    "\n",
    "    # Setup the data structure and the pop function.\n",
    "    structure = struct([initial_state])\n",
    "    pop = get_pop_function(struct, structure)\n",
    "    extend = structure.extend\n",
    "\n",
    "    '''\n",
    "    Loop until the structure is empty:\n",
    "       - Pop the first element from the structure.\n",
    "        - If the element is not visited:\n",
    "            - Add the element to the visited set.\n",
    "            - If the element is the goal, return the path and the cost.\n",
    "            - Extend the structure with the neighbors of the element.\n",
    "    '''\n",
    "    while struct:\n",
    "        vertex, path = pop()\n",
    "        if vertex not in visited:\n",
    "            visited.add(vertex)\n",
    "            if vertex == goal:\n",
    "                return path, count_cost(graph, path)\n",
    "\n",
    "            extend((neighbor, path + [neighbor]) for neighbor in graph[vertex] if neighbor not in visited)\n",
    "\n",
    "    return None\n",
    "\n",
    "# Counts the cost of the given path.\n",
    "def count_cost(graph, path):\n",
    "    cost = 0\n",
    "    for i in range(len(path) - 1):\n",
    "        cost += graph[path[i]][path[i + 1]]\n",
    "    return cost\n",
    "\n",
    "# Prints the path and cost.\n",
    "def print_metrics(method, graph, path, total_cost = None):\n",
    "    print(f'{method.upper()} path:')\n",
    "    for i in range(len(path) - 1):\n",
    "        print(f' {i + 1}. {path[i]} -> {path[i + 1]} ({graph[path[i]][path[i + 1]]})')\n",
    "\n",
    "    if total_cost is not None:\n",
    "        print(f'{method.upper()} total cost: {total_cost}')\n",
    "\n",
    "'''\n",
    "Parameterized function which can model either UCS/GBFS/A*\n",
    "depending on the type of traversal function provided.\n",
    "'''\n",
    "def heuristic_graph_search(graph, traversal, start, goal):\n",
    "    # Start node has no predecessor\n",
    "    visited = {start: (None, 0)}\n",
    "\n",
    "    # Frontier is a priority queue with the start node\n",
    "    frontier = PriorityQueue()\n",
    "    frontier.put((0, start))\n",
    "\n",
    "    # Setup the explored nodes set\n",
    "    explored = []\n",
    "\n",
    "    '''\n",
    "    Loop until the frontier is empty:\n",
    "        - Pop the first element from the frontier.\n",
    "        - Add the element to the explored set.\n",
    "        - If the element is the goal, return the path and the cost.\n",
    "        - For each neighbor of the element that is not in the explored set:\n",
    "            - Call the traversal function to get the cost.\n",
    "    '''\n",
    "    while not frontier.empty():\n",
    "        # Grab the current node\n",
    "        current = frontier.get()[1]\n",
    "\n",
    "        # Add it to the explored nodes set\n",
    "        explored.append(current)\n",
    "\n",
    "        # If we've reached the goal return the path + cost\n",
    "        if current == goal:\n",
    "            path = [current]\n",
    "            total_cost = 0\n",
    "            from_last = 0\n",
    "            \n",
    "            while visited[current][0] is not None:\n",
    "                path.append(visited[current][0])\n",
    "                total_cost += graph[current][visited[current][0]]\n",
    "                current = visited[current][0]\n",
    "\n",
    "            return path[::-1], total_cost\n",
    "\n",
    "        '''\n",
    "        Loop through the neighbors of the current node\n",
    "        and call the provided traversal function.\n",
    "        '''\n",
    "        for neighbor in graph[current]:\n",
    "            if neighbor not in explored:\n",
    "                # call traversal function to get the cost\n",
    "                traversal(graph, frontier, visited, current, neighbor)\n",
    "        \n",
    "    return None\n"
   ]
  },
  {
   "cell_type": "markdown",
   "id": "49c8d585",
   "metadata": {
    "deletable": false,
    "editable": false
   },
   "source": [
    "### 1. BFS Implementation\n",
    "\n",
    "Provide your implementation of the BFS Search below."
   ]
  },
  {
   "cell_type": "code",
   "execution_count": 223,
   "id": "dc105d97",
   "metadata": {},
   "outputs": [],
   "source": [
    "# Call graph_search with a deque to perform BFS.\n",
    "def breadth_first_search(graph, start, goal): return graph_search(graph, deque, start, goal)"
   ]
  },
  {
   "cell_type": "code",
   "execution_count": 224,
   "id": "d93bf6fd",
   "metadata": {},
   "outputs": [
    {
     "name": "stdout",
     "output_type": "stream",
     "text": [
      "BFS path:\n",
      " 1. Arad -> Sibiu (140)\n",
      " 2. Sibiu -> Fagaras (99)\n",
      " 3. Fagaras -> Bucharest (211)\n",
      "BFS total cost: 450\n"
     ]
    }
   ],
   "source": [
    "# Let's run BFS against `romania_map` to find a path from Arad to Bucharest.\n",
    "bfs_path, bfs_cost = breadth_first_search(romania_map, 'Arad', 'Bucharest')\n",
    "print_metrics('bfs', romania_map, bfs_path, bfs_cost)"
   ]
  },
  {
   "cell_type": "markdown",
   "id": "e27de0bb",
   "metadata": {
    "deletable": false,
    "editable": false
   },
   "source": [
    "### 2.  DFS Implementation\n",
    "\n",
    "Provide your implementation of the DFS Search below."
   ]
  },
  {
   "cell_type": "code",
   "execution_count": 225,
   "id": "c491c5ac",
   "metadata": {},
   "outputs": [],
   "source": [
    "# Call graph_search with a list (models a stack) to perform DFS.\n",
    "def depth_first_search(graph, start, goal): return graph_search(graph, list, start, goal)"
   ]
  },
  {
   "cell_type": "code",
   "execution_count": 226,
   "id": "e1bcd227",
   "metadata": {},
   "outputs": [
    {
     "name": "stdout",
     "output_type": "stream",
     "text": [
      "DFS path:\n",
      " 1. Arad -> Timisoara (118)\n",
      " 2. Timisoara -> Lugoj (111)\n",
      " 3. Lugoj -> Mehadia (70)\n",
      " 4. Mehadia -> Dobreta (75)\n",
      " 5. Dobreta -> Craiova (120)\n",
      " 6. Craiova -> Pitesti (138)\n",
      " 7. Pitesti -> Bucharest (101)\n",
      "DFS total cost: 733\n"
     ]
    }
   ],
   "source": [
    "# Let's run DFS against `romania_map` to find a path from Arad to Bucharest.\n",
    "dfs_path, dfs_cost = depth_first_search(romania_map, 'Arad', 'Bucharest')\n",
    "print_metrics('dfs', romania_map, dfs_path, dfs_cost)"
   ]
  },
  {
   "cell_type": "markdown",
   "id": "509df9d1",
   "metadata": {
    "deletable": false,
    "editable": false
   },
   "source": [
    "### 3. UCS Implementation\n",
    "\n",
    "Provide your implementation of the UCS Search below."
   ]
  },
  {
   "cell_type": "code",
   "execution_count": 227,
   "id": "4380f2b5",
   "metadata": {},
   "outputs": [],
   "source": [
    "from queue import PriorityQueue\n",
    "\n",
    "def uniform_cost_search(graph, start, goal):\n",
    "    def traversal(graph, frontier, visited, current, neighbor):\n",
    "        # if neighbor is not in frontier, add it to frontier\n",
    "        if neighbor not in [node[1] for node in frontier.queue]:\n",
    "            visited[neighbor] = (current, visited[current][1] + graph[current][neighbor])\n",
    "            frontier.put((visited[neighbor][1], neighbor))\n",
    "            return\n",
    "            \n",
    "        if visited[current][1] + graph[current][neighbor] < visited[neighbor][1]:\n",
    "            visited[neighbor] = (current, visited[current][1] + graph[current][neighbor])\n",
    "            # remove neighbor from frontier\n",
    "            for node in frontier.queue:\n",
    "                if node[1] == neighbor:\n",
    "                    frontier.queue.remove(node)\n",
    "                    break\n",
    "            frontier.put((visited[neighbor][1], neighbor))\n",
    "    \n",
    "    return heuristic_graph_search(graph, traversal, start, goal)"
   ]
  },
  {
   "cell_type": "code",
   "execution_count": 228,
   "id": "76ab70b3",
   "metadata": {},
   "outputs": [
    {
     "name": "stdout",
     "output_type": "stream",
     "text": [
      "UCS path:\n",
      " 1. Arad -> Sibiu (140)\n",
      " 2. Sibiu -> Rimnicu Vilcea (80)\n",
      " 3. Rimnicu Vilcea -> Pitesti (97)\n",
      " 4. Pitesti -> Bucharest (101)\n",
      "UCS total cost: 418\n"
     ]
    }
   ],
   "source": [
    "ucs_path, ucs_cost = uniform_cost_search(romania_map, 'Arad', 'Bucharest')\n",
    "print_metrics('ucs', romania_map, ucs_path, ucs_cost)"
   ]
  },
  {
   "cell_type": "markdown",
   "id": "c8114e78",
   "metadata": {
    "deletable": false,
    "editable": false
   },
   "source": [
    "### 4. GBFS Implementation\n",
    "\n",
    "Provide your implementation of the GBFS Search below."
   ]
  },
  {
   "cell_type": "code",
   "execution_count": 229,
   "id": "56c78f07",
   "metadata": {},
   "outputs": [],
   "source": [
    "def greedy_bfs(graph, start, goal):\n",
    "    def traversal(graph, frontier, visited, current, neighbor):\n",
    "        # if neighbor is not in frontier, add it to frontier\n",
    "        if neighbor not in [node[1] for node in frontier.queue]:\n",
    "            visited[neighbor] = (current, sld_to_Bucharest[neighbor])\n",
    "            frontier.put((visited[neighbor][1], neighbor))\n",
    "\n",
    "    return heuristic_graph_search(graph, traversal, start, goal)"
   ]
  },
  {
   "cell_type": "code",
   "execution_count": 230,
   "id": "4ec768cd",
   "metadata": {},
   "outputs": [
    {
     "name": "stdout",
     "output_type": "stream",
     "text": [
      "GBFS path:\n",
      " 1. Arad -> Sibiu (140)\n",
      " 2. Sibiu -> Fagaras (99)\n",
      " 3. Fagaras -> Bucharest (211)\n",
      "GBFS total cost: 450\n"
     ]
    }
   ],
   "source": [
    "gbfs_path, gbfs_cost = greedy_bfs(romania_map, 'Arad', 'Bucharest')\n",
    "print_metrics('gbfs', romania_map, gbfs_path, gbfs_cost)"
   ]
  },
  {
   "cell_type": "markdown",
   "id": "d02b50ea",
   "metadata": {
    "deletable": false,
    "editable": false
   },
   "source": [
    "### 5. A* Implementation\n",
    "\n",
    "Provide your implementation of the A* Algorithm below."
   ]
  },
  {
   "cell_type": "code",
   "execution_count": 231,
   "id": "14dad1bc",
   "metadata": {},
   "outputs": [],
   "source": [
    "def a_star(graph, start, goal):\n",
    "    def traversal(graph, frontier, visited, current, neighbor):\n",
    "        # if neighbor is not in frontier, add it to frontier\n",
    "        if neighbor not in [node[1] for node in frontier.queue]:\n",
    "            visited[neighbor] = (current, visited[current][1] + graph[current][neighbor])\n",
    "            frontier.put((visited[neighbor][1] + sld_to_Bucharest[neighbor], neighbor))\n",
    "            return\n",
    "            \n",
    "        # if neighbor is in frontier, update its cost if necessary\n",
    "        if visited[current][1] + graph[current][neighbor] < visited[neighbor][1]:\n",
    "            visited[neighbor] = (current, visited[current][1] + graph[current][neighbor])\n",
    "            # remove neighbor from frontier\n",
    "            for node in frontier.queue:\n",
    "                if node[1] == neighbor:\n",
    "                    frontier.queue.remove(node)\n",
    "                    break\n",
    "            frontier.put((visited[neighbor][1] + sld_to_Bucharest[neighbor], neighbor))\n",
    "\n",
    "    return heuristic_graph_search(graph, traversal, start, goal)"
   ]
  },
  {
   "cell_type": "code",
   "execution_count": 232,
   "id": "03d3a38b",
   "metadata": {},
   "outputs": [
    {
     "name": "stdout",
     "output_type": "stream",
     "text": [
      "A* path:\n",
      " 1. Arad -> Sibiu (140)\n",
      " 2. Sibiu -> Rimnicu Vilcea (80)\n",
      " 3. Rimnicu Vilcea -> Pitesti (97)\n",
      " 4. Pitesti -> Bucharest (101)\n",
      "A* total cost: 418\n"
     ]
    }
   ],
   "source": [
    "a_star_path, a_star_cost = a_star(romania_map, 'Arad', 'Bucharest')\n",
    "print_metrics('a*', romania_map, a_star_path, a_star_cost)"
   ]
  }
 ],
 "metadata": {
  "kernelspec": {
   "display_name": "Python 3 (ipykernel)",
   "language": "python",
   "name": "python3"
  },
  "language_info": {
   "codemirror_mode": {
    "name": "ipython",
    "version": 3
   },
   "file_extension": ".py",
   "mimetype": "text/x-python",
   "name": "python",
   "nbconvert_exporter": "python",
   "pygments_lexer": "ipython3",
   "version": "3.11.4"
  }
 },
 "nbformat": 4,
 "nbformat_minor": 5
}
